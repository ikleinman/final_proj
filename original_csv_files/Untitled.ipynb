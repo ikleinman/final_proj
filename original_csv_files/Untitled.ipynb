{
 "cells": [
  {
   "cell_type": "code",
   "execution_count": 1,
   "metadata": {},
   "outputs": [
    {
     "name": "stderr",
     "output_type": "stream",
     "text": [
      "C:\\Users\\jnovic\\AppData\\Local\\Continuum\\anaconda3\\lib\\site-packages\\h5py\\__init__.py:36: FutureWarning: Conversion of the second argument of issubdtype from `float` to `np.floating` is deprecated. In future, it will be treated as `np.float64 == np.dtype(float).type`.\n",
      "  from ._conv import register_converters as _register_converters\n",
      "Using TensorFlow backend.\n"
     ]
    }
   ],
   "source": [
    "# Import dependencies\n",
    "import os\n",
    "import csv\n",
    "import pandas as pd\n",
    "import numpy as np\n",
    "import skfeature.function.sparse_learning_based.MCFS as MCFS\n",
    "from sklearn.preprocessing import LabelEncoder\n",
    "from sklearn.feature_selection import SelectFromModel, SelectKBest\n",
    "from sklearn.linear_model import LogisticRegression\n",
    "from sklearn.model_selection import train_test_split\n",
    "from sklearn.metrics import classification_report\n",
    "from sklearn.svm import SVC\n",
    "from keras.utils import to_categorical\n",
    "from scipy import sparse\n",
    "import pickle"
   ]
  },
  {
   "cell_type": "code",
   "execution_count": 2,
   "metadata": {},
   "outputs": [],
   "source": [
    "data = pd.read_csv(\"../processed_data.csv\")\n",
    "data = data.drop(\"Unnamed: 0\", axis = 1)"
   ]
  },
  {
   "cell_type": "code",
   "execution_count": 3,
   "metadata": {},
   "outputs": [],
   "source": [
    "X = data.drop([\"SLQ050\", \"SEQN\"], axis = 1)"
   ]
  },
  {
   "cell_type": "code",
   "execution_count": 4,
   "metadata": {},
   "outputs": [],
   "source": [
    "lists = [\"CBD130\",\"DPQ010\",\"DPQ020\",\"DPQ030\",\"DPQ040\",\"DPQ050\",\"DPQ060\",\"DPQ070\", \"FSQ162\", \"HIQ031A\",\"HIQ031B\",\"HIQ031I\",\"SLD010H\",\"RIAGENDR\", \"RIDRETH1\"]"
   ]
  },
  {
   "cell_type": "code",
   "execution_count": 5,
   "metadata": {},
   "outputs": [],
   "source": [
    "X = X[lists]"
   ]
  },
  {
   "cell_type": "code",
   "execution_count": 6,
   "metadata": {},
   "outputs": [
    {
     "name": "stdout",
     "output_type": "stream",
     "text": [
      "CBD130\n",
      "DPQ010\n",
      "DPQ020\n",
      "DPQ030\n",
      "DPQ040\n",
      "DPQ050\n",
      "DPQ060\n",
      "DPQ070\n",
      "FSQ162\n",
      "HIQ031A\n",
      "HIQ031B\n",
      "HIQ031I\n",
      "SLD010H\n",
      "RIAGENDR\n",
      "RIDRETH1\n"
     ]
    }
   ],
   "source": [
    "#able encode the x datat\n",
    "label_encoder = LabelEncoder()\n",
    "for col in X:\n",
    "    k =label_encoder.fit(X[col])\n",
    "    X[col] = k.transform(X[col])\n",
    "    print(col)\n",
    "    pickle.dump(k, open(\"le\" +col +\".sav\", 'wb')) "
   ]
  },
  {
   "cell_type": "code",
   "execution_count": 16,
   "metadata": {},
   "outputs": [],
   "source": [
    "test = data.drop([\"SLQ050\", \"SEQN\"], axis = 1)\n",
    "test = data[lists]\n",
    "test = test.iloc[532, :]\n",
    "test = pd.DataFrame(test)\n",
    "test = test.transpose()\n",
    "test[\"RIDRETH1\"]=4"
   ]
  },
  {
   "cell_type": "code",
   "execution_count": 17,
   "metadata": {},
   "outputs": [],
   "source": [
    "encoder1 = pickle.load(open('leCBD130.sav', 'rb'))\n",
    "test[\"CBD130\"]= encoder1.transform(test[\"CBD130\"])\n",
    "encoder2 = pickle.load(open('leDPQ010.sav', 'rb'))\n",
    "test[\"DPQ010\"]= encoder2.transform(test[\"DPQ010\"])\n",
    "encoder3 = pickle.load(open('leDPQ020.sav', 'rb'))\n",
    "test[\"DPQ020\"]= encoder3.transform(test[\"DPQ020\"])\n",
    "encoder4 = pickle.load(open('leDPQ030.sav', 'rb'))\n",
    "test[\"DPQ030\"]= encoder4.transform(test[\"DPQ030\"])\n",
    "encoder5 = pickle.load(open('leDPQ040.sav', 'rb'))\n",
    "test[\"DPQ040\"]= encoder5.transform(test[\"DPQ040\"])\n",
    "encoder6 = pickle.load(open('leDPQ050.sav', 'rb'))\n",
    "test[\"DPQ050\"]= encoder6.transform(test[\"DPQ050\"])\n",
    "encoder7 = pickle.load(open('leDPQ060.sav', 'rb'))\n",
    "test[\"DPQ060\"]= encoder7.transform(test[\"DPQ060\"])\n",
    "encoder8 = pickle.load(open('leDPQ070.sav', 'rb'))\n",
    "test[\"DPQ070\"]= encoder8.transform(test[\"DPQ070\"])\n",
    "encoder9 = pickle.load(open('leFSQ162.sav', 'rb'))\n",
    "test[\"FSQ162\"]= encoder9.transform(test[\"FSQ162\"])\n",
    "encoder10 = pickle.load(open('leHIQ031A.sav', 'rb'))\n",
    "test[\"HIQ031A\"]= encoder10.transform(test[\"HIQ031A\"])\n",
    "encoder11 = pickle.load(open('leHIQ031B.sav', 'rb'))\n",
    "test[\"HIQ031B\"]= encoder11.transform(test[\"HIQ031B\"])\n",
    "encoder12 = pickle.load(open('leHIQ031I.sav', 'rb'))\n",
    "test[\"HIQ031I\"]= encoder12.transform(test[\"HIQ031I\"])\n",
    "encoder13 = pickle.load(open('leSLD010H.sav', 'rb'))\n",
    "test[\"SLD010H\"]= encoder13.transform(test[\"SLD010H\"])\n",
    "encoder14 = pickle.load(open('leRIAGENDR.sav', 'rb'))\n",
    "test[\"RIAGENDR\"]= encoder14.transform(test[\"RIAGENDR\"])\n",
    "encoder15 = pickle.load(open('leRIDRETH1.sav', 'rb'))\n",
    "test[\"RIDRETH1\"]= encoder15.transform(test[\"RIDRETH1\"])\n",
    "    \n",
    "            \n",
    "\n",
    "\n",
    "\n",
    "\n",
    "\n",
    "\n",
    "    \n",
    "\n",
    "                            \n"
   ]
  },
  {
   "cell_type": "code",
   "execution_count": 19,
   "metadata": {},
   "outputs": [],
   "source": [
    "from scipy import sparse\n",
    "test =sparse.coo_matrix(test )"
   ]
  },
  {
   "cell_type": "code",
   "execution_count": 20,
   "metadata": {},
   "outputs": [],
   "source": [
    "model= pickle.load(open('LogRegression.sav', 'rb'))"
   ]
  },
  {
   "cell_type": "code",
   "execution_count": 22,
   "metadata": {},
   "outputs": [
    {
     "name": "stdout",
     "output_type": "stream",
     "text": [
      "[1]\n"
     ]
    }
   ],
   "source": [
    "print(model.predict(test))"
   ]
  },
  {
   "cell_type": "code",
   "execution_count": null,
   "metadata": {},
   "outputs": [],
   "source": []
  }
 ],
 "metadata": {
  "kernelspec": {
   "display_name": "Python 3",
   "language": "python",
   "name": "python3"
  },
  "language_info": {
   "codemirror_mode": {
    "name": "ipython",
    "version": 3
   },
   "file_extension": ".py",
   "mimetype": "text/x-python",
   "name": "python",
   "nbconvert_exporter": "python",
   "pygments_lexer": "ipython3",
   "version": "3.6.7"
  }
 },
 "nbformat": 4,
 "nbformat_minor": 2
}
